{
 "cells": [
  {
   "cell_type": "markdown",
   "metadata": {},
   "source": [
    "# Programming Assignment # 3 Clustering"
   ]
  },
  {
   "cell_type": "markdown",
   "metadata": {},
   "source": [
    "## Student Details"
   ]
  },
  {
   "cell_type": "markdown",
   "metadata": {},
   "source": [
    "When submitting, fill your full name, your student ID and your NetID in this cell. Note that this is a markdown cell! \n",
    "\n",
    "Student Full Name: DEEPESH BHATTA\n",
    "\n",
    "ID:\n",
    "\n",
    "Team Mate name :HARSH VINOD CHALUDIA\n",
    "\n",
    "ID:"
   ]
  },
  {
   "cell_type": "markdown",
   "metadata": {},
   "source": [
    "## Rules"
   ]
  },
  {
   "cell_type": "markdown",
   "metadata": {},
   "source": [
    "1. Work is to be done in a team\n",
    "2. Any cheating including plagiarism, cooperation will be reported to the corresponding UTA’ s instance.\n",
    "3. If using any resource (books, internet), please make sure that you cite it.\n",
    "4. Follow the given structure. Specifically, place all your tasks in THIS NOTEBOOK BUT IN SEPARATE BLOCKS. Then save this notebook as 'yourNetID_pa3.ipynb' and submit it. \n",
    "5. Do not alter the dataset name.\n",
    "6. Please dont ask any details specific to the project like \"How to plot XYZ ? What parameters are to be used? \" and so on..\n",
    "7. Report is not required for this assignment. If you want to document a function or a process, just comment or use markup cell.\n",
    "8. Please dont send images of your visualizations to verify whether they are right or not before submission deadline.\n",
    "\n"
   ]
  },
  {
   "cell_type": "markdown",
   "metadata": {},
   "source": [
    "## Assignment Details"
   ]
  },
  {
   "cell_type": "markdown",
   "metadata": {
    "collapsed": true
   },
   "source": [
    "The purpose of this assignment is to cluster adults using K-means clustering and Hierarchical Agglomerative clustering models and to visualize clusters for predicted and actual cluster labels.\n",
    "\n",
    "\n",
    "Your dataset is part of \"Adult\". You can find more information here: https://archive.ics.uci.edu/ml/datasets/adult.\n",
    "The classification problem is whether they earn more than 50,000$ or not.\n",
    "\n",
    "\n",
    "\n",
    "You need to submit this ipython file after renaming it. \n",
    "\n",
    "Preprocessing will be needed for the data as most of the data is in string and needs to be quantified.\n",
    "\n"
   ]
  },
  {
   "cell_type": "code",
   "execution_count": null,
   "metadata": {},
   "outputs": [],
   "source": [
    "%%javascript\n",
    "IPython.OutputArea.prototype._should_scroll = function(lines) {\n",
    "    return false;\n",
    "}"
   ]
  },
  {
   "cell_type": "markdown",
   "metadata": {},
   "source": [
    "## Required Python Packages "
   ]
  },
  {
   "cell_type": "code",
   "execution_count": null,
   "metadata": {},
   "outputs": [],
   "source": [
    "# Import required Python packages here\n",
    "#Seaborn,numpy,pandas,sklearn,matplotlib only"
   ]
  },
  {
   "cell_type": "markdown",
   "metadata": {},
   "source": [
    "## TASK 1: K-Means Clustering"
   ]
  },
  {
   "cell_type": "markdown",
   "metadata": {},
   "source": [
    "### Task 1-a: Determine “k” value from the elbow method"
   ]
  },
  {
   "cell_type": "markdown",
   "metadata": {},
   "source": [
    "In this task, you will be using the elbow method to determine the optimal number of clusters for k-means clustering.\n",
    "\n",
    "We need some way to determine whether we are using the right number of clusters when using k-means clustering. One method to validate the number of clusters is the elbow method. \n",
    "\n",
    "The idea of the elbow method is to run k-means clustering on the dataset for a range of values of k (k will be from 1 to 10 in this task), and for each value of k calculate the sum of squared errors (SSE). Then, plot a line chart of the SSE for each value of k. If the line chart looks like an arm, then the \"elbow\" on the arm is the value of k that is the best. The idea is that we want a small SSE, but that the SSE tends to decrease toward 0 as we increase k (the SSE is 0 when k is equal to the number of data points in the dataset, because then each data point is a cluster, and there is no error between it and the center of its cluster). So our goal is to choose a small value of k that still has a low SSE, and the elbow usually represents where we start to have diminishing returns by increasing k.\n",
    "\n",
    "For this task, you need to perform the elbow method for k from 1 to 10 and plot a line chart of the SSE for each value of k, and determine the best k (the number of clusters). Note that you need to use the whole dataset in this task and you need to print your decision for k."
   ]
  },
  {
   "cell_type": "code",
   "execution_count": null,
   "metadata": {
    "scrolled": true
   },
   "outputs": [],
   "source": [
    "#########################begin code for Task 1-a\n",
    "#########################begin code for Task 1-a\n"
   ]
  },
  {
   "cell_type": "markdown",
   "metadata": {},
   "source": [
    "### Task 1-b: Visualization for K-Means Clustering"
   ]
  },
  {
   "cell_type": "markdown",
   "metadata": {},
   "source": [
    "In this task, you will be performing k-means clustering for k=2 and visualize the predicted training samples and actual training samples on scatter plots. Use 70% of the dataset for training and 30% of the dataset for testing. Perform kmeans for clustering samples in your training set. \n",
    "\n",
    "Use two subplots for visualizing the predicted training samples and actual training samples on two scatter plots.\n",
    "\n",
    "Since your dataset has multiple features(dimensions), you won't be able to plot your data on a scatter plot. Thus, you’re going to visualize your data with the help of one of the Dimensionality Reduction techniques, namely Principal Component Analysis (PCA). The idea in PCA is to find a linear combination of the two variables that contains most of the information. This new variable or “principal component” can replace the two original variables. You can easily apply PCA to your data with the help of scikit-learn.\n",
    "\n"
   ]
  },
  {
   "cell_type": "code",
   "execution_count": null,
   "metadata": {},
   "outputs": [],
   "source": [
    "###################begin code for Task 1-b-1: Split the dataset 70% for training and 30% for testing\n",
    "\n",
    "### Important!!!\n",
    "\n",
    "###################end code for Task 1-b-1"
   ]
  },
  {
   "cell_type": "code",
   "execution_count": null,
   "metadata": {},
   "outputs": [],
   "source": [
    "\n",
    "###################begin code for Task 1-b-2: Visualize the predicted training labels vs actual training labels\n",
    "\n",
    "# Import PCA\n",
    "from sklearn.decomposition import PCA\n",
    "\n",
    "\n",
    "# Create the KMeans model\n",
    "\n",
    "# Compute cluster centers and predict cluster index for each sample \n",
    "\n",
    "# Model and fit the data to the PCA model\n",
    "X_train_pca = None\n",
    "\n",
    "# Visualize the predicted training labels vs actual training labels. \n",
    "### scatter(x, y, your_data)\n",
    "x = X_train_pca[:, 0]\n",
    "y = X_train_pca[:, 1]\n",
    "\n",
    "\n",
    "###################end code for Task 1-b-2\n"
   ]
  },
  {
   "cell_type": "markdown",
   "metadata": {},
   "source": [
    "Now, you need to visualize the predicted testing labels versus actual testing labels. Use the trained model in previous step."
   ]
  },
  {
   "cell_type": "code",
   "execution_count": null,
   "metadata": {},
   "outputs": [],
   "source": [
    "###################begin code for Task 1-b-3: Visualize the predicted testing labels vs actual testing labels\n",
    "\n",
    "\n",
    "# predict cluster index for each sample \n",
    "\n",
    "# Model and fit the data to the PCA model\n",
    "X_test_pca = None\n",
    "\n",
    "# Visualize the predicted testing labels vs actual testing labels. \n",
    "### scatter(x, y, your_data)\n",
    "x = X_test_pca[:, 0]\n",
    "y = X_test_pca[:, 1]\n",
    "\n",
    "\n",
    "###################end code for Task 1-b-3"
   ]
  },
  {
   "cell_type": "markdown",
   "metadata": {},
   "source": [
    "In this step, you need to provide the evaluation of your clustering model. Print out a confusion matrix."
   ]
  },
  {
   "cell_type": "code",
   "execution_count": null,
   "metadata": {},
   "outputs": [],
   "source": [
    "###################begin code for Task 1-b-4: Print out a confusion matrix\n",
    "\n",
    "\n",
    "###################end code for Task 1-b-4"
   ]
  },
  {
   "cell_type": "markdown",
   "metadata": {},
   "source": [
    "# TASK 2: Hierarchical Agglomerative  Clustering"
   ]
  },
  {
   "cell_type": "markdown",
   "metadata": {},
   "source": [
    "## Task 2-a: Find the best Hierarchical Agglomerative Clustering Model"
   ]
  },
  {
   "cell_type": "markdown",
   "metadata": {},
   "source": [
    "In this task, you will be performing Hierarchical Agglomerative clustering with different linkage methods (complete and average) and different similarity measures (cosine, euclidean, and manhattan) in order to find the best pair of linkage method and similarity measure. Use F1 score for evaluation and take n_clusters = 2.\n"
   ]
  },
  {
   "cell_type": "code",
   "execution_count": null,
   "metadata": {},
   "outputs": [],
   "source": [
    "###################begin code for Task 2-a: Print out a confusion matrix\n",
    "# Import AgglomerativeClustering\n",
    "from sklearn.cluster import AgglomerativeClustering\n",
    "# Import pairwise_distances for calculating pairwise distance matrix\n",
    "from sklearn.metrics.pairwise import pairwise_distances\n",
    "# Import f1_score\n",
    "from sklearn.metrics import f1_score\n",
    "\n",
    "\n",
    "## Calculate pairwise distance matrix for X_train\n",
    "pdm_train = None\n",
    "\n",
    "## Model and fit the training data to the AgglomerativeClustering model\n",
    "## complete linkage + cosine\n",
    "\n",
    "\n",
    "## Model and fit the training data to the AgglomerativeClustering model\n",
    "## complete linkage + euclidean\n",
    "\n",
    "\n",
    "## Model and fit the training data to the AgglomerativeClustering model\n",
    "## complete linkage + manhattan\n",
    "\n",
    "\n",
    "## Model and fit the training data to the AgglomerativeClustering model\n",
    "## average linkage + cosine\n",
    "\n",
    "\n",
    "## Model and fit the training data to the AgglomerativeClustering model\n",
    "## average linkage + euclidean\n",
    "\n",
    "\n",
    "## Model and fit the training data to the AgglomerativeClustering model\n",
    "## average linkage + manhattan\n",
    "\n",
    "\n",
    "print(\"F1-score for complete linkage + cosine\", None)\n",
    "print(\"F1-score for complete linkage + euclidean\", None)\n",
    "print(\"F1-score for complete linkage + manhattan\", None)\n",
    "print(\"F1-score for average linkage + cosine\", None)\n",
    "print(\"F1-score for average linkage + euclidean\", None)\n",
    "print(\"F1-score for average linkage + manhattan\", None)\n",
    "\n",
    "###################end code for Task 2-a"
   ]
  },
  {
   "cell_type": "markdown",
   "metadata": {},
   "source": [
    "## Task 2-b:  Visualization for Hierarchical Agglomerative Clustering"
   ]
  },
  {
   "cell_type": "markdown",
   "metadata": {},
   "source": [
    "Find the best performed model from the previous step and use that model for visualizing the predicted training samples and actual training samples on scatter plots. Use PCA model for visualizing your data (use X_train_pca from Task 1-b-2). "
   ]
  },
  {
   "cell_type": "code",
   "execution_count": null,
   "metadata": {},
   "outputs": [],
   "source": [
    "###################begin code for Task 2-b: Visualize the predicted training labels vs actual training labels\n",
    "\n",
    "\n",
    "# Visualize the predicted training labels versus actual training labels. \n",
    "\n",
    "\n",
    "###################end code for Task 2-b"
   ]
  },
  {
   "cell_type": "markdown",
   "metadata": {},
   "source": [
    "# TASK 3:  WEKA Visualization of K-means Clustering and Hierarchical Agglomerative Clustering"
   ]
  },
  {
   "cell_type": "markdown",
   "metadata": {},
   "source": [
    "## Task 3-a : Visualize the k-means clustering using weka"
   ]
  },
  {
   "cell_type": "code",
   "execution_count": null,
   "metadata": {},
   "outputs": [],
   "source": [
    "###################start Task 3-a\n",
    "\n",
    "\n",
    "\n",
    "###################end Task 3-a"
   ]
  },
  {
   "cell_type": "markdown",
   "metadata": {},
   "source": [
    "## Task 3-b : Visualize the hierarchical clustering using weka"
   ]
  },
  {
   "cell_type": "code",
   "execution_count": null,
   "metadata": {},
   "outputs": [],
   "source": [
    "###################start Task 3-b\n",
    "\n",
    "\n",
    "\n",
    "###################end Task 3-b"
   ]
  },
  {
   "cell_type": "markdown",
   "metadata": {},
   "source": [
    "# (BONUS)\n",
    "# TASK 4:  Compare K-Means Clustering and Hierarchical Agglomerative Clustering"
   ]
  },
  {
   "cell_type": "markdown",
   "metadata": {},
   "source": [
    "## Task 4-a: Visualize Clusters "
   ]
  },
  {
   "cell_type": "markdown",
   "metadata": {},
   "source": [
    "In this task, use whole dataset for training k-means cluster and hierarchical agglomerative clustering. Use the best model for agglomerative clustering. Visualize the predicted labels from k-means clustering and agglomerative clustering versus actual labels. Basically, you need to plot three scatter plots as subplots. "
   ]
  },
  {
   "cell_type": "code",
   "execution_count": null,
   "metadata": {},
   "outputs": [],
   "source": [
    "###################begin code for Task 4-a: Visualize the predicted training labels vs actual training labels\n",
    "\n",
    "### Kmeans Clustering\n",
    "# Model and fit the data to the Kmeans (use fit_predict : Performs clustering on X and returns cluster labels.)\n",
    "\n",
    "\n",
    "### Agglomerative Clustering\n",
    "# Calculate pairwise distance matrix for X\n",
    "\n",
    "# Model and fit the data to the Agglomerative (use fit_predict : Performs clustering on X and returns cluster labels.)\n",
    "\n",
    "\n",
    "### Visualize Clusters\n",
    "#  Model and fit the data to the PCA model\n",
    "X_pca = None\n",
    "\n",
    "# Visualize the predicted Kmeans labels versus  the predicted Agglomerative labels versus Actual labels. \n",
    "\n",
    "\n",
    "###################end code for Task 4-a"
   ]
  },
  {
   "cell_type": "markdown",
   "metadata": {},
   "source": [
    "## Task 4-b: Compare K-Means Clustering &  Hierarchical Agglomerative Clustering"
   ]
  },
  {
   "cell_type": "markdown",
   "metadata": {},
   "source": [
    "Print out confusion matrices for kmeans and agglomerative clustering. Also, compare precision, recall, and F1-score for both model. Type your reasoning."
   ]
  },
  {
   "cell_type": "code",
   "execution_count": 1,
   "metadata": {},
   "outputs": [],
   "source": [
    "###################begin code for Task 4-b\n",
    "\n",
    "\n",
    "\n",
    "###################end code for Task 4-b"
   ]
  },
  {
   "cell_type": "markdown",
   "metadata": {},
   "source": [
    "## Grading "
   ]
  },
  {
   "cell_type": "markdown",
   "metadata": {},
   "source": [
    "<b>[05 points] Follow the Rules</b> \n",
    "\n",
    "\n",
    "<b>[30 points] Task 1:</b>  \n",
    "\n",
    "    [05 points] Task 1-a: Determine “k” value from the elbow method\n",
    "\n",
    "    [20 points] Task 1-b: Visualization for K-Means Clustering\n",
    "\n",
    "        [05 points] Task 1-b-1: Split the dataset \n",
    "    \n",
    "        [05 points] Task 1-b-2: Visualize the predicted training vs actual training labels \n",
    "    \n",
    "        [05 points] Task 1-b-3: Visualize the predicted testing vs actual testing labels\n",
    "    \n",
    "        [05 points] Task 1-b-4: Print out a confusion matrix\n",
    "    \n",
    "\n",
    "\n",
    "<b>[30 points] Task 2:</b>  \n",
    "\n",
    "    [20 points] Task 2-a: Find the best Hierarchical Agglomerative Clustering Model\n",
    "\n",
    "    [10 points] Task 2-b: Visualization for Hierarchical Agglomerative Clustering\n",
    "\n",
    "<b>[40 points] Task 3 (BONUS):</b> \n",
    "\n",
    "    Task 3-a: 20 points\n",
    "\n",
    "    Task 3-b: 20 points\n",
    "\n",
    "<b>[20 points] Task 4 (BONUS):</b> \n",
    "\n",
    "    Task 4-a: 10 points\n",
    "\n",
    "    Task 4-b: 10 points"
   ]
  }
 ],
 "metadata": {
  "celltoolbar": "Raw Cell Format",
  "kernelspec": {
   "display_name": "Python(chs_py36)",
   "language": "python",
   "name": "myenv"
  },
  "language_info": {
   "codemirror_mode": {
    "name": "ipython",
    "version": 3
   },
   "file_extension": ".py",
   "mimetype": "text/x-python",
   "name": "python",
   "nbconvert_exporter": "python",
   "pygments_lexer": "ipython3",
   "version": "3.6.10"
  }
 },
 "nbformat": 4,
 "nbformat_minor": 1
}
